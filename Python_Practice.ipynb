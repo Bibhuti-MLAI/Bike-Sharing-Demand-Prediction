{
  "nbformat": 4,
  "nbformat_minor": 0,
  "metadata": {
    "colab": {
      "provenance": [],
      "toc_visible": true,
      "authorship_tag": "ABX9TyMKYvMwarXvgqF3GAPytAyO",
      "include_colab_link": true
    },
    "kernelspec": {
      "name": "python3",
      "display_name": "Python 3"
    },
    "language_info": {
      "name": "python"
    }
  },
  "cells": [
    {
      "cell_type": "markdown",
      "metadata": {
        "id": "view-in-github",
        "colab_type": "text"
      },
      "source": [
        "<a href=\"https://colab.research.google.com/github/Bibhuti-MLAI/Bike-Sharing-Demand-Prediction/blob/main/Python_Practice.ipynb\" target=\"_parent\"><img src=\"https://colab.research.google.com/assets/colab-badge.svg\" alt=\"Open In Colab\"/></a>"
      ]
    },
    {
      "cell_type": "code",
      "execution_count": null,
      "metadata": {
        "colab": {
          "base_uri": "https://localhost:8080/"
        },
        "id": "AGpi86Fpm3kK",
        "outputId": "ec08682f-2e55-47a9-9f7e-a1f93601d6f0"
      },
      "outputs": [
        {
          "output_type": "stream",
          "name": "stdout",
          "text": [
            "30\n"
          ]
        }
      ],
      "source": [
        "a=10\n",
        "b=20\n",
        "print(a+b)"
      ]
    },
    {
      "cell_type": "code",
      "source": [
        "first_name='Bibhuti'\n",
        "last_name='Sahu'"
      ],
      "metadata": {
        "id": "1hdpn-dwoHDu"
      },
      "execution_count": null,
      "outputs": []
    },
    {
      "cell_type": "code",
      "source": [
        "print(\"My First name if {} and my Last is {}\".format(first_name,last_name))"
      ],
      "metadata": {
        "colab": {
          "base_uri": "https://localhost:8080/"
        },
        "id": "aXt9tCgAoHGe",
        "outputId": "9974a14c-f92e-4f37-db26-897b232224b1"
      },
      "execution_count": null,
      "outputs": [
        {
          "output_type": "stream",
          "name": "stdout",
          "text": [
            "My First name if Bibhuti and my Last is Sahu\n"
          ]
        }
      ]
    },
    {
      "cell_type": "code",
      "source": [
        "lst=['Math',10,20, 3,40]"
      ],
      "metadata": {
        "id": "JwWQk32ooHJB"
      },
      "execution_count": null,
      "outputs": []
    },
    {
      "cell_type": "code",
      "source": [
        "type(lst)"
      ],
      "metadata": {
        "colab": {
          "base_uri": "https://localhost:8080/"
        },
        "id": "OgH6ZPUIoHLt",
        "outputId": "1c4c15d6-74f4-480a-fb12-2512d37ab885"
      },
      "execution_count": null,
      "outputs": [
        {
          "output_type": "execute_result",
          "data": {
            "text/plain": [
              "list"
            ]
          },
          "metadata": {},
          "execution_count": 3
        }
      ]
    },
    {
      "cell_type": "code",
      "source": [
        "lst.append('Bibhuti')"
      ],
      "metadata": {
        "id": "lHadGU2koHOM"
      },
      "execution_count": null,
      "outputs": []
    },
    {
      "cell_type": "code",
      "source": [
        "lst"
      ],
      "metadata": {
        "colab": {
          "base_uri": "https://localhost:8080/"
        },
        "id": "zIKy1FStoHQf",
        "outputId": "7799f9bb-2d25-48ab-a180-9b0ae5294827"
      },
      "execution_count": null,
      "outputs": [
        {
          "output_type": "execute_result",
          "data": {
            "text/plain": [
              "['Math', 10, 20, 3, 40, 'Bibhuti']"
            ]
          },
          "metadata": {},
          "execution_count": 5
        }
      ]
    },
    {
      "cell_type": "code",
      "source": [
        "lst.pop"
      ],
      "metadata": {
        "colab": {
          "base_uri": "https://localhost:8080/"
        },
        "id": "cp3F13BwoHTM",
        "outputId": "e6813f52-ef17-472e-d256-66886b8f929d"
      },
      "execution_count": null,
      "outputs": [
        {
          "output_type": "execute_result",
          "data": {
            "text/plain": [
              "<function list.pop(index=-1, /)>"
            ]
          },
          "metadata": {},
          "execution_count": 6
        }
      ]
    },
    {
      "cell_type": "code",
      "source": [
        "lst"
      ],
      "metadata": {
        "colab": {
          "base_uri": "https://localhost:8080/"
        },
        "id": "HJxE4TZGoHVm",
        "outputId": "6950bb74-a5ce-4c56-9bf4-91ca7944c338"
      },
      "execution_count": null,
      "outputs": [
        {
          "output_type": "execute_result",
          "data": {
            "text/plain": [
              "['Math', 10, 20, 3, 40, 'Bibhuti']"
            ]
          },
          "metadata": {},
          "execution_count": 7
        }
      ]
    },
    {
      "cell_type": "code",
      "source": [
        "lst.insert(1,'Bhusan')"
      ],
      "metadata": {
        "id": "h0RR4cw1oHYH"
      },
      "execution_count": null,
      "outputs": []
    },
    {
      "cell_type": "code",
      "source": [
        "lst"
      ],
      "metadata": {
        "colab": {
          "base_uri": "https://localhost:8080/"
        },
        "id": "zdVsGAODCdIq",
        "outputId": "90347371-d4da-4482-f56f-bb8bc3e13b13"
      },
      "execution_count": null,
      "outputs": [
        {
          "output_type": "execute_result",
          "data": {
            "text/plain": [
              "['Math', 'Bhusan', 10, 20, 3, 40, 'Bibhuti']"
            ]
          },
          "metadata": {},
          "execution_count": 10
        }
      ]
    },
    {
      "cell_type": "code",
      "source": [
        "lst.append(['chem','phy'])"
      ],
      "metadata": {
        "id": "Z2wCtxGhCdOv"
      },
      "execution_count": null,
      "outputs": []
    },
    {
      "cell_type": "code",
      "source": [
        "lst"
      ],
      "metadata": {
        "colab": {
          "base_uri": "https://localhost:8080/"
        },
        "id": "sHKMHEYxCdUd",
        "outputId": "caa169a4-cf61-40fe-93af-df447bf2e94d"
      },
      "execution_count": null,
      "outputs": [
        {
          "output_type": "execute_result",
          "data": {
            "text/plain": [
              "['Math', 'Bhusan', 10, 20, 3, 40, 'Bibhuti', ['chem', 'phy'], ['chem', 'phy']]"
            ]
          },
          "metadata": {},
          "execution_count": 13
        }
      ]
    },
    {
      "cell_type": "code",
      "source": [
        "lst.remove('chem')"
      ],
      "metadata": {
        "id": "PX7ZrEF6CdXI"
      },
      "execution_count": null,
      "outputs": []
    },
    {
      "cell_type": "code",
      "source": [
        "#finding prime number\n",
        "num=int(input(\"Enter the number:\"))\n",
        "if num>1:\n",
        "    for i in range(2,num):\n",
        "        if (num%i)==0:\n",
        "            print(num,\"is not a prime number\")\n",
        "            break\n",
        "    else:\n",
        "        print(num,\"is a prime number\")"
      ],
      "metadata": {
        "id": "r-aPkhx1CdaQ",
        "colab": {
          "base_uri": "https://localhost:8080/"
        },
        "outputId": "8f5cfa1c-eebb-46db-9f30-b55063f155ca"
      },
      "execution_count": null,
      "outputs": [
        {
          "name": "stdout",
          "output_type": "stream",
          "text": [
            "Enter the number:1\n"
          ]
        }
      ]
    },
    {
      "cell_type": "code",
      "source": [
        "for num in range(2,20):\n",
        "  for i in range (2,num):\n",
        "    if num%i==0:\n",
        "      break\n",
        "  else:\n",
        "    print(num)"
      ],
      "metadata": {
        "colab": {
          "base_uri": "https://localhost:8080/"
        },
        "id": "Fft9vHBj5YJ_",
        "outputId": "c6acc862-ade0-4452-8f3b-9b2f09cfdb09"
      },
      "execution_count": null,
      "outputs": [
        {
          "output_type": "stream",
          "name": "stdout",
          "text": [
            "2\n",
            "3\n",
            "5\n",
            "7\n",
            "11\n",
            "13\n",
            "17\n",
            "19\n"
          ]
        }
      ]
    },
    {
      "cell_type": "code",
      "source": [
        "#sorting elements in list\n",
        "list=[1,5,78,6,4,8,9,57,6,45,75,89,65,25,47,56]\n",
        "list_sort =[]\n",
        "while list:\n",
        "  minimum=list[0]\n",
        "  for x in list:\n",
        "    if x < minimum:\n",
        "      minimum=x\n",
        "  list_sort.append(minimum)\n",
        "  list.remove(minimum)\n",
        "print(list_sort)\n"
      ],
      "metadata": {
        "id": "PCVpODAMCdch",
        "colab": {
          "base_uri": "https://localhost:8080/"
        },
        "outputId": "7c7ab3fc-689b-44ad-b672-38953f9ff4a1"
      },
      "execution_count": 1,
      "outputs": [
        {
          "output_type": "stream",
          "name": "stdout",
          "text": [
            "[1, 4, 5, 6, 6, 8, 9, 25, 45, 47, 56, 57, 65, 75, 78, 89]\n"
          ]
        }
      ]
    },
    {
      "cell_type": "code",
      "source": [
        "#sorting elements in list\n",
        "list=[1,5,78,6,4,8,9,57,6,45,75,89,65,25,47,56]\n",
        "list_sort =[]\n",
        "while list:\n",
        "  minimum=list[0]\n",
        "  for x in list:\n",
        "    if minimum>x:\n",
        "      minimum=x\n",
        "  list_sort.append(minimum)\n",
        "  list.remove(minimum)\n",
        "print(list_sort)"
      ],
      "metadata": {
        "id": "riMNp_xKCdh2",
        "colab": {
          "base_uri": "https://localhost:8080/"
        },
        "outputId": "510a251a-00fe-4d1f-df66-7e5a2f942d3e"
      },
      "execution_count": 3,
      "outputs": [
        {
          "output_type": "stream",
          "name": "stdout",
          "text": [
            "[1, 4, 5, 6, 6, 8, 9, 25, 45, 47, 56, 57, 65, 75, 78, 89]\n"
          ]
        }
      ]
    },
    {
      "cell_type": "code",
      "source": [
        "#dictionary learning\n",
        "my_dict={\"car1\":\"Audi\",\"car2\":\"Mercedese\",\"car3\":\"bmw\"}\n",
        "my_dict\n",
        "type(my_dict)"
      ],
      "metadata": {
        "id": "qpsaUvpaCdkx",
        "colab": {
          "base_uri": "https://localhost:8080/"
        },
        "outputId": "cffe5b7d-bca5-461e-f3d9-ece3cbe2d489"
      },
      "execution_count": 6,
      "outputs": [
        {
          "output_type": "execute_result",
          "data": {
            "text/plain": [
              "dict"
            ]
          },
          "metadata": {},
          "execution_count": 6
        }
      ]
    },
    {
      "cell_type": "code",
      "source": [
        "my_dict['car1']"
      ],
      "metadata": {
        "id": "XzP4qCTWCdnK",
        "colab": {
          "base_uri": "https://localhost:8080/",
          "height": 36
        },
        "outputId": "17266279-ac3f-4869-955d-1eefac81c910"
      },
      "execution_count": 8,
      "outputs": [
        {
          "output_type": "execute_result",
          "data": {
            "text/plain": [
              "'Audi'"
            ],
            "application/vnd.google.colaboratory.intrinsic+json": {
              "type": "string"
            }
          },
          "metadata": {},
          "execution_count": 8
        }
      ]
    },
    {
      "cell_type": "code",
      "source": [
        "for x in my_dict.items():\n",
        "  print(x)"
      ],
      "metadata": {
        "id": "QJaPCQkaCdp4",
        "colab": {
          "base_uri": "https://localhost:8080/"
        },
        "outputId": "3a766153-ad6a-4c10-ea68-1cee7dde1b37"
      },
      "execution_count": 14,
      "outputs": [
        {
          "output_type": "stream",
          "name": "stdout",
          "text": [
            "('car1', 'Audi')\n",
            "('car2', 'Mercedese')\n",
            "('car3', 'bmw')\n",
            "('car4', 'maruti')\n"
          ]
        }
      ]
    },
    {
      "cell_type": "code",
      "source": [
        "my_dict[\"car4\"]=\"maruti\"\n"
      ],
      "metadata": {
        "id": "DwrRiYM4oHbo"
      },
      "execution_count": 13,
      "outputs": []
    },
    {
      "cell_type": "markdown",
      "source": [
        "#NumPy Tutorial\n"
      ],
      "metadata": {
        "id": "fMCFTb6ZM5Dg"
      }
    },
    {
      "cell_type": "code",
      "source": [],
      "metadata": {
        "id": "DLA3L5e1LXdf"
      },
      "execution_count": null,
      "outputs": []
    },
    {
      "cell_type": "code",
      "source": [],
      "metadata": {
        "id": "IW7o4pNCLXgL"
      },
      "execution_count": null,
      "outputs": []
    },
    {
      "cell_type": "code",
      "source": [],
      "metadata": {
        "id": "UOjCEW5gLXjB"
      },
      "execution_count": null,
      "outputs": []
    },
    {
      "cell_type": "code",
      "source": [],
      "metadata": {
        "id": "DDkoGxKgLXmH"
      },
      "execution_count": null,
      "outputs": []
    },
    {
      "cell_type": "code",
      "source": [],
      "metadata": {
        "id": "uy1-ml3-LXoz"
      },
      "execution_count": null,
      "outputs": []
    },
    {
      "cell_type": "code",
      "source": [],
      "metadata": {
        "id": "U9x3Zs7dLXsL"
      },
      "execution_count": null,
      "outputs": []
    },
    {
      "cell_type": "code",
      "source": [],
      "metadata": {
        "id": "CrJM1FxaLXvg"
      },
      "execution_count": null,
      "outputs": []
    },
    {
      "cell_type": "code",
      "source": [],
      "metadata": {
        "id": "hn_E9rcmLXx5"
      },
      "execution_count": null,
      "outputs": []
    },
    {
      "cell_type": "code",
      "source": [],
      "metadata": {
        "id": "6f16RCZXLX0v"
      },
      "execution_count": null,
      "outputs": []
    },
    {
      "cell_type": "code",
      "source": [],
      "metadata": {
        "id": "a-nqzXcwLX3e"
      },
      "execution_count": null,
      "outputs": []
    },
    {
      "cell_type": "code",
      "source": [],
      "metadata": {
        "id": "ig_NGWUjLX6m"
      },
      "execution_count": null,
      "outputs": []
    },
    {
      "cell_type": "code",
      "source": [],
      "metadata": {
        "id": "lwhxjuA3LYMy"
      },
      "execution_count": null,
      "outputs": []
    },
    {
      "cell_type": "code",
      "source": [],
      "metadata": {
        "id": "0vGvvg-NLYPu"
      },
      "execution_count": null,
      "outputs": []
    },
    {
      "cell_type": "code",
      "source": [],
      "metadata": {
        "id": "WhXHvFrMLYSU"
      },
      "execution_count": null,
      "outputs": []
    },
    {
      "cell_type": "code",
      "source": [],
      "metadata": {
        "id": "Yi4pVqOmLYVK"
      },
      "execution_count": null,
      "outputs": []
    },
    {
      "cell_type": "code",
      "source": [],
      "metadata": {
        "id": "IAsZaZB9LYX-"
      },
      "execution_count": null,
      "outputs": []
    },
    {
      "cell_type": "code",
      "source": [],
      "metadata": {
        "id": "A5A97PTbLYbc"
      },
      "execution_count": null,
      "outputs": []
    }
  ]
}